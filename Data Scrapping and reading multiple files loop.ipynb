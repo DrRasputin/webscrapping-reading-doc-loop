{
 "cells": [
  {
   "cell_type": "markdown",
   "metadata": {},
   "source": [
    "### To run all scripts click CELL then RUN ALL \n",
    "#### Stop button will stop the code\n",
    "#### Or if you exit out the browser window the code will stop "
   ]
  },
  {
   "cell_type": "code",
   "execution_count": 1,
   "metadata": {},
   "outputs": [
    {
     "data": {
      "text/html": [
       "<style>.container { width:100% !important; }</style>"
      ],
      "text/plain": [
       "<IPython.core.display.HTML object>"
      ]
     },
     "metadata": {},
     "output_type": "display_data"
    }
   ],
   "source": [
    "####Run this to expand the width of the Jupyter cell\n",
    "\n",
    "from IPython.core.display import display, HTML\n",
    "display(HTML(\"<style>.container { width:100% !important; }</style>\"))"
   ]
  },
  {
   "cell_type": "code",
   "execution_count": 1,
   "metadata": {},
   "outputs": [
    {
     "ename": "SyntaxError",
     "evalue": "invalid syntax (<ipython-input-1-b710ff20738a>, line 35)",
     "output_type": "error",
     "traceback": [
      "\u001b[1;36m  File \u001b[1;32m\"<ipython-input-1-b710ff20738a>\"\u001b[1;36m, line \u001b[1;32m35\u001b[0m\n\u001b[1;33m    Where.send_keys(Change me)\u001b[0m\n\u001b[1;37m                            ^\u001b[0m\n\u001b[1;31mSyntaxError\u001b[0m\u001b[1;31m:\u001b[0m invalid syntax\n"
     ]
    }
   ],
   "source": [
    "## Import Selenium functions\n",
    "from selenium import webdriver\n",
    "from selenium.webdriver.common.action_chains import ActionChains\n",
    "from selenium.webdriver.common.by import By\n",
    "from selenium.webdriver.support.ui import WebDriverWait\n",
    "from selenium.webdriver.support import expected_conditions as ec\n",
    "import os\n",
    "import time\n",
    "import urllib.request\n",
    "import re\n",
    "\n",
    "\n",
    "    ## Make a path to chromedriver.exe (you have to download driver from Chrome and link folder to code)\n",
    "    \n",
    "\n",
    "\n",
    "## First ObjectID. As script runs the ObjectID will change from txt files\n",
    "variable = ''\n",
    "\n",
    "## How many times script will loop (15)\n",
    "for x in range (0,15):\n",
    "    EXE_PATH = os.path.expanduser(\"~/Desktop/webdrivers/geckodriver\")\n",
    "    driver = webdriver.Firefox(executable_path = EXE_PATH)\n",
    "    #EXE_PATH = os.path.expanduser(\"~/Desktop/webdrivers/chromedriver\")\n",
    "    #driver = webdriver.Chrome(executable_path=EXE_PATH)\n",
    "    ## Set URL destination to Conductors Query page\n",
    "    driver.get(\"#website\")\n",
    "    \n",
    "    \n",
    "    ## Use right click within chrome browser to inspect web elements of where you want to send information \n",
    "    ## Using Selenium to click and type in fields \n",
    "    ## Click Where box and enter Where query\n",
    "    Where = driver.find_element(By.XPATH, '//*[@name =\"where\" ]')\n",
    "    Where.click()\n",
    "    Where.send_keys(\"\")\n",
    "\n",
    "    ## Click and fill in OUT fields\n",
    "    outfield = driver.find_element(By.XPATH, '//*[@name =\"outFields\" ]')\n",
    "    outfield.click()\n",
    "    outfield.send_keys(\"\")\n",
    "    \n",
    "    resultRecordCount = driver.find_element(By.XPATH, '//*[@name =\"resultRecordCount\" ]')\n",
    "    resultRecordCount.click()\n",
    "    #resultRecordCount.send_keys(\"\")\n",
    "\n",
    "    ## Click GEOJSON file type\n",
    "    formatfile = driver.find_element(By.XPATH, '//*[@value =\"json\" ]')\n",
    "    formatfile.click()\n",
    "\n",
    "    ## Click Query button\n",
    "    query = driver.find_element(By.XPATH, '//*[@value =\"Query (GET)\" ]')\n",
    "    query.click()\n",
    "   \n",
    "    time.sleep(20)\n",
    "    \n",
    "    ## Saves the current URL page as a text file\n",
    "    ## Path the saved file to your liking\n",
    "    url = driver.current_url\n",
    "    ## change each loop\n",
    "    urllib.request.urlretrieve(url, os.path.expanduser(\"~/Desktop/Data Pulls/Today/Core Layers/item All/All_1_\" + lastObject + \".txt\"))  \n",
    "    print (\"Saved file\")\n",
    "    driver.quit()\n",
    "## Make sure urllib and filname have same file path\n",
    "    filename = os.path.expanduser(\"~/Desktop/Data Pulls/Today/Core Layers/item All/All_1_\"+ lastObject + \".txt\")\n",
    "\n",
    "## This loop searches the txt file\n",
    "## Search text file from bottom up\n",
    "## Search for \"ObjectID\" and find all digits in line with ObjectID. This new ObjectID will become your new lastObject variable\n",
    "## Once new ObjectID variable is given the script will keep looping\n",
    "    for line in reversed(open(filename, encoding=\"utf8\").readlines()):\n",
    "        if \"OBJECTID\" in line:\n",
    "            lastObject = re.findall('\\d+', line)[0]\n",
    "            print(lastObject)\n",
    "            break\n",
    "## With in your text file if no \"exceededTransferLimit\" then stop script\n",
    "    with open(filename, encoding=\"utf8\") as myfile:\n",
    "        if not \"exceededTransferLimit\" in myfile.read():\n",
    "            break\n",
    "\n",
    "print (\"done\")\n",
    "\n",
    "\n"
   ]
  },
  {
   "cell_type": "code",
   "execution_count": null,
   "metadata": {},
   "outputs": [],
   "source": []
  }
 ],
 "metadata": {
  "kernelspec": {
   "display_name": "Python 3",
   "language": "python",
   "name": "python3"
  },
  "language_info": {
   "codemirror_mode": {
    "name": "ipython",
    "version": 3
   },
   "file_extension": ".py",
   "mimetype": "text/x-python",
   "name": "python",
   "nbconvert_exporter": "python",
   "pygments_lexer": "ipython3",
   "version": "3.7.3"
  }
 },
 "nbformat": 4,
 "nbformat_minor": 2
}
